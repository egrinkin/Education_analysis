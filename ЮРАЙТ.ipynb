{
 "cells": [
  {
   "cell_type": "markdown",
   "metadata": {},
   "source": [
    "#### Влияние повторения учебных материалов на результаты тестирования"
   ]
  },
  {
   "cell_type": "markdown",
   "metadata": {},
   "source": [
    "Структура данных:\n",
    "\n",
    "·         View_stat – статистика чтения учебных материалов\n",
    "\n",
    "o   stat_id – идентификатор записи\n",
    "\n",
    "o   ebs_user_id – идентификатор пользователя\n",
    "\n",
    "o   content_id – идентификатор учебного материала\n",
    "\n",
    "o   start_date – дата и время начала чтения\n",
    "\n",
    "o   finish_date – дата и время окончания чтения\n",
    "\n",
    "·         Quiz_stat – статистика прохождение тестов\n",
    "\n",
    "o   quiz_user_id – идентификатор прохождения\n",
    "\n",
    "o   ebs_user_id – идентификатор пользователя\n",
    "\n",
    "o   content_id – идентификатор учебного материала, к которому привязан тест\n",
    "\n",
    "o   quiz_id – идентификатор теста\n",
    "\n",
    "o   score – кол-во набранных баллов за тест\n",
    "\n",
    "o   total_score – максимально возможное кол-во баллов в тесте\n",
    "\n",
    "o   create_at – дата и время начала прохождения теста\n",
    "\n",
    "o   finish_at – дата и время завершения теста"
   ]
  },
  {
   "cell_type": "code",
   "execution_count": 1,
   "metadata": {},
   "outputs": [],
   "source": [
    "import pandas as pd\n",
    "import seaborn as sns"
   ]
  },
  {
   "cell_type": "code",
   "execution_count": 2,
   "metadata": {},
   "outputs": [],
   "source": [
    "view = pd.read_csv('view_stat.csv', sep = ';', header = None)"
   ]
  },
  {
   "cell_type": "code",
   "execution_count": 3,
   "metadata": {},
   "outputs": [],
   "source": [
    "quiz = pd.read_csv('quiz_stat.csv', sep = '\\t')"
   ]
  },
  {
   "cell_type": "code",
   "execution_count": 4,
   "metadata": {},
   "outputs": [],
   "source": [
    "view.columns = ['stat_id', 'ebs_user_id', 'content_id', 'start_date', 'finish_date']"
   ]
  },
  {
   "cell_type": "markdown",
   "metadata": {},
   "source": [
    "Преобразуем строковые величины в даты:"
   ]
  },
  {
   "cell_type": "code",
   "execution_count": 5,
   "metadata": {},
   "outputs": [],
   "source": [
    "view.start_date = pd.to_datetime(view.start_date)\n",
    "view.finish_date = pd.to_datetime(view.finish_date)\n",
    "quiz.create_at = pd.to_datetime(quiz.create_at)\n",
    "quiz.finish_at = pd.to_datetime(quiz.finish_at)"
   ]
  },
  {
   "cell_type": "code",
   "execution_count": 6,
   "metadata": {},
   "outputs": [
    {
     "data": {
      "text/html": [
       "<div>\n",
       "<style scoped>\n",
       "    .dataframe tbody tr th:only-of-type {\n",
       "        vertical-align: middle;\n",
       "    }\n",
       "\n",
       "    .dataframe tbody tr th {\n",
       "        vertical-align: top;\n",
       "    }\n",
       "\n",
       "    .dataframe thead th {\n",
       "        text-align: right;\n",
       "    }\n",
       "</style>\n",
       "<table border=\"1\" class=\"dataframe\">\n",
       "  <thead>\n",
       "    <tr style=\"text-align: right;\">\n",
       "      <th></th>\n",
       "      <th>stat_id</th>\n",
       "      <th>ebs_user_id</th>\n",
       "      <th>content_id</th>\n",
       "      <th>start_date</th>\n",
       "      <th>finish_date</th>\n",
       "    </tr>\n",
       "  </thead>\n",
       "  <tbody>\n",
       "    <tr>\n",
       "      <th>0</th>\n",
       "      <td>70719195</td>\n",
       "      <td>2FADB1B5-9D51-44B2-B7D0-E2F77AA54F48</td>\n",
       "      <td>E185B2BD-29CE-40A6-B09D-00BF93711CF2</td>\n",
       "      <td>2020-05-01 13:56:27</td>\n",
       "      <td>2020-05-01 14:26:25</td>\n",
       "    </tr>\n",
       "    <tr>\n",
       "      <th>1</th>\n",
       "      <td>70747054</td>\n",
       "      <td>513E6728-F87D-4293-9A28-6F0F006FC8B0</td>\n",
       "      <td>E185B2BD-29CE-40A6-B09D-00BF93711CF2</td>\n",
       "      <td>2020-05-01 15:43:58</td>\n",
       "      <td>2020-05-01 16:03:37</td>\n",
       "    </tr>\n",
       "    <tr>\n",
       "      <th>2</th>\n",
       "      <td>70913809</td>\n",
       "      <td>9ABEFF2C-31F5-410D-93B2-C73AA9578E05</td>\n",
       "      <td>E185B2BD-29CE-40A6-B09D-00BF93711CF2</td>\n",
       "      <td>2020-05-02 10:09:05</td>\n",
       "      <td>2020-05-02 10:23:36</td>\n",
       "    </tr>\n",
       "    <tr>\n",
       "      <th>3</th>\n",
       "      <td>70958583</td>\n",
       "      <td>9ABEFF2C-31F5-410D-93B2-C73AA9578E05</td>\n",
       "      <td>E185B2BD-29CE-40A6-B09D-00BF93711CF2</td>\n",
       "      <td>2020-05-02 13:25:07</td>\n",
       "      <td>2020-05-02 13:34:37</td>\n",
       "    </tr>\n",
       "    <tr>\n",
       "      <th>4</th>\n",
       "      <td>70969815</td>\n",
       "      <td>9ABEFF2C-31F5-410D-93B2-C73AA9578E05</td>\n",
       "      <td>E185B2BD-29CE-40A6-B09D-00BF93711CF2</td>\n",
       "      <td>2020-05-02 14:05:19</td>\n",
       "      <td>2020-05-02 14:14:38</td>\n",
       "    </tr>\n",
       "  </tbody>\n",
       "</table>\n",
       "</div>"
      ],
      "text/plain": [
       "    stat_id                           ebs_user_id  \\\n",
       "0  70719195  2FADB1B5-9D51-44B2-B7D0-E2F77AA54F48   \n",
       "1  70747054  513E6728-F87D-4293-9A28-6F0F006FC8B0   \n",
       "2  70913809  9ABEFF2C-31F5-410D-93B2-C73AA9578E05   \n",
       "3  70958583  9ABEFF2C-31F5-410D-93B2-C73AA9578E05   \n",
       "4  70969815  9ABEFF2C-31F5-410D-93B2-C73AA9578E05   \n",
       "\n",
       "                             content_id          start_date  \\\n",
       "0  E185B2BD-29CE-40A6-B09D-00BF93711CF2 2020-05-01 13:56:27   \n",
       "1  E185B2BD-29CE-40A6-B09D-00BF93711CF2 2020-05-01 15:43:58   \n",
       "2  E185B2BD-29CE-40A6-B09D-00BF93711CF2 2020-05-02 10:09:05   \n",
       "3  E185B2BD-29CE-40A6-B09D-00BF93711CF2 2020-05-02 13:25:07   \n",
       "4  E185B2BD-29CE-40A6-B09D-00BF93711CF2 2020-05-02 14:05:19   \n",
       "\n",
       "          finish_date  \n",
       "0 2020-05-01 14:26:25  \n",
       "1 2020-05-01 16:03:37  \n",
       "2 2020-05-02 10:23:36  \n",
       "3 2020-05-02 13:34:37  \n",
       "4 2020-05-02 14:14:38  "
      ]
     },
     "execution_count": 6,
     "metadata": {},
     "output_type": "execute_result"
    }
   ],
   "source": [
    "view.head()"
   ]
  },
  {
   "cell_type": "code",
   "execution_count": 7,
   "metadata": {},
   "outputs": [
    {
     "name": "stdout",
     "output_type": "stream",
     "text": [
      "<class 'pandas.core.frame.DataFrame'>\n",
      "RangeIndex: 14139035 entries, 0 to 14139034\n",
      "Data columns (total 5 columns):\n",
      " #   Column       Dtype         \n",
      "---  ------       -----         \n",
      " 0   stat_id      int64         \n",
      " 1   ebs_user_id  object        \n",
      " 2   content_id   object        \n",
      " 3   start_date   datetime64[ns]\n",
      " 4   finish_date  datetime64[ns]\n",
      "dtypes: datetime64[ns](2), int64(1), object(2)\n",
      "memory usage: 539.4+ MB\n"
     ]
    }
   ],
   "source": [
    "view.info()"
   ]
  },
  {
   "cell_type": "code",
   "execution_count": 8,
   "metadata": {},
   "outputs": [
    {
     "data": {
      "text/html": [
       "<div>\n",
       "<style scoped>\n",
       "    .dataframe tbody tr th:only-of-type {\n",
       "        vertical-align: middle;\n",
       "    }\n",
       "\n",
       "    .dataframe tbody tr th {\n",
       "        vertical-align: top;\n",
       "    }\n",
       "\n",
       "    .dataframe thead th {\n",
       "        text-align: right;\n",
       "    }\n",
       "</style>\n",
       "<table border=\"1\" class=\"dataframe\">\n",
       "  <thead>\n",
       "    <tr style=\"text-align: right;\">\n",
       "      <th></th>\n",
       "      <th>quiz_user_id</th>\n",
       "      <th>ebs_user_id</th>\n",
       "      <th>content_id</th>\n",
       "      <th>quiz_id</th>\n",
       "      <th>score</th>\n",
       "      <th>total_score</th>\n",
       "      <th>create_at</th>\n",
       "      <th>finish_at</th>\n",
       "    </tr>\n",
       "  </thead>\n",
       "  <tbody>\n",
       "    <tr>\n",
       "      <th>0</th>\n",
       "      <td>85448</td>\n",
       "      <td>DAE1D1A4-294E-4B66-8C8C-5BD0E7B88C5C</td>\n",
       "      <td>8396304F-DFC9-4DB9-9200-02F5911078EA</td>\n",
       "      <td>11F7E721-67E8-4708-9207-3D9683481E93</td>\n",
       "      <td>20.0</td>\n",
       "      <td>22</td>\n",
       "      <td>2020-04-01 00:22:21</td>\n",
       "      <td>2020-04-01 00:30:42</td>\n",
       "    </tr>\n",
       "    <tr>\n",
       "      <th>1</th>\n",
       "      <td>85448</td>\n",
       "      <td>DAE1D1A4-294E-4B66-8C8C-5BD0E7B88C5C</td>\n",
       "      <td>DAAAF6F5-3769-47B6-91B1-02119C087D6C</td>\n",
       "      <td>11F7E721-67E8-4708-9207-3D9683481E93</td>\n",
       "      <td>20.0</td>\n",
       "      <td>22</td>\n",
       "      <td>2020-04-01 00:22:21</td>\n",
       "      <td>2020-04-01 00:30:42</td>\n",
       "    </tr>\n",
       "    <tr>\n",
       "      <th>2</th>\n",
       "      <td>85449</td>\n",
       "      <td>2EE248CF-E355-49F7-9ADC-12E2E1CCF3F6</td>\n",
       "      <td>5E6AB4AB-2760-4B30-A0C1-FBA265AB4AB3</td>\n",
       "      <td>BFB506DA-1555-410F-8F2C-F6155B496036</td>\n",
       "      <td>2.0</td>\n",
       "      <td>10</td>\n",
       "      <td>2020-04-01 00:37:00</td>\n",
       "      <td>2020-04-01 15:34:34</td>\n",
       "    </tr>\n",
       "    <tr>\n",
       "      <th>3</th>\n",
       "      <td>85449</td>\n",
       "      <td>2EE248CF-E355-49F7-9ADC-12E2E1CCF3F6</td>\n",
       "      <td>EA8D12B5-FB78-4B35-8F7F-17C6AA371981</td>\n",
       "      <td>BFB506DA-1555-410F-8F2C-F6155B496036</td>\n",
       "      <td>2.0</td>\n",
       "      <td>10</td>\n",
       "      <td>2020-04-01 00:37:00</td>\n",
       "      <td>2020-04-01 15:34:34</td>\n",
       "    </tr>\n",
       "    <tr>\n",
       "      <th>4</th>\n",
       "      <td>85449</td>\n",
       "      <td>2EE248CF-E355-49F7-9ADC-12E2E1CCF3F6</td>\n",
       "      <td>A3C775E3-39A1-455E-8036-5015DC15E0D1</td>\n",
       "      <td>BFB506DA-1555-410F-8F2C-F6155B496036</td>\n",
       "      <td>2.0</td>\n",
       "      <td>10</td>\n",
       "      <td>2020-04-01 00:37:00</td>\n",
       "      <td>2020-04-01 15:34:34</td>\n",
       "    </tr>\n",
       "  </tbody>\n",
       "</table>\n",
       "</div>"
      ],
      "text/plain": [
       "   quiz_user_id                           ebs_user_id  \\\n",
       "0         85448  DAE1D1A4-294E-4B66-8C8C-5BD0E7B88C5C   \n",
       "1         85448  DAE1D1A4-294E-4B66-8C8C-5BD0E7B88C5C   \n",
       "2         85449  2EE248CF-E355-49F7-9ADC-12E2E1CCF3F6   \n",
       "3         85449  2EE248CF-E355-49F7-9ADC-12E2E1CCF3F6   \n",
       "4         85449  2EE248CF-E355-49F7-9ADC-12E2E1CCF3F6   \n",
       "\n",
       "                             content_id                               quiz_id  \\\n",
       "0  8396304F-DFC9-4DB9-9200-02F5911078EA  11F7E721-67E8-4708-9207-3D9683481E93   \n",
       "1  DAAAF6F5-3769-47B6-91B1-02119C087D6C  11F7E721-67E8-4708-9207-3D9683481E93   \n",
       "2  5E6AB4AB-2760-4B30-A0C1-FBA265AB4AB3  BFB506DA-1555-410F-8F2C-F6155B496036   \n",
       "3  EA8D12B5-FB78-4B35-8F7F-17C6AA371981  BFB506DA-1555-410F-8F2C-F6155B496036   \n",
       "4  A3C775E3-39A1-455E-8036-5015DC15E0D1  BFB506DA-1555-410F-8F2C-F6155B496036   \n",
       "\n",
       "   score  total_score           create_at           finish_at  \n",
       "0   20.0           22 2020-04-01 00:22:21 2020-04-01 00:30:42  \n",
       "1   20.0           22 2020-04-01 00:22:21 2020-04-01 00:30:42  \n",
       "2    2.0           10 2020-04-01 00:37:00 2020-04-01 15:34:34  \n",
       "3    2.0           10 2020-04-01 00:37:00 2020-04-01 15:34:34  \n",
       "4    2.0           10 2020-04-01 00:37:00 2020-04-01 15:34:34  "
      ]
     },
     "execution_count": 8,
     "metadata": {},
     "output_type": "execute_result"
    }
   ],
   "source": [
    "quiz.head()"
   ]
  },
  {
   "cell_type": "code",
   "execution_count": 9,
   "metadata": {},
   "outputs": [
    {
     "name": "stdout",
     "output_type": "stream",
     "text": [
      "<class 'pandas.core.frame.DataFrame'>\n",
      "RangeIndex: 1276192 entries, 0 to 1276191\n",
      "Data columns (total 8 columns):\n",
      " #   Column        Non-Null Count    Dtype         \n",
      "---  ------        --------------    -----         \n",
      " 0   quiz_user_id  1276192 non-null  int64         \n",
      " 1   ebs_user_id   1276192 non-null  object        \n",
      " 2   content_id    1276192 non-null  object        \n",
      " 3   quiz_id       1276192 non-null  object        \n",
      " 4   score         1104981 non-null  float64       \n",
      " 5   total_score   1276192 non-null  int64         \n",
      " 6   create_at     1276192 non-null  datetime64[ns]\n",
      " 7   finish_at     1104981 non-null  datetime64[ns]\n",
      "dtypes: datetime64[ns](2), float64(1), int64(2), object(3)\n",
      "memory usage: 77.9+ MB\n"
     ]
    }
   ],
   "source": [
    "quiz.info()"
   ]
  },
  {
   "cell_type": "markdown",
   "metadata": {},
   "source": [
    "В таблице 'view' присутствуют ошибочные данные, в которых дата и время окончания чтения является более ранней, чем дата и время начала чтения:"
   ]
  },
  {
   "cell_type": "code",
   "execution_count": 10,
   "metadata": {},
   "outputs": [
    {
     "data": {
      "text/html": [
       "<div>\n",
       "<style scoped>\n",
       "    .dataframe tbody tr th:only-of-type {\n",
       "        vertical-align: middle;\n",
       "    }\n",
       "\n",
       "    .dataframe tbody tr th {\n",
       "        vertical-align: top;\n",
       "    }\n",
       "\n",
       "    .dataframe thead th {\n",
       "        text-align: right;\n",
       "    }\n",
       "</style>\n",
       "<table border=\"1\" class=\"dataframe\">\n",
       "  <thead>\n",
       "    <tr style=\"text-align: right;\">\n",
       "      <th></th>\n",
       "      <th>stat_id</th>\n",
       "      <th>ebs_user_id</th>\n",
       "      <th>content_id</th>\n",
       "      <th>start_date</th>\n",
       "      <th>finish_date</th>\n",
       "    </tr>\n",
       "  </thead>\n",
       "  <tbody>\n",
       "    <tr>\n",
       "      <th>37</th>\n",
       "      <td>75570959</td>\n",
       "      <td>561E6530-AE24-4CB9-8D1E-25124AF5336C</td>\n",
       "      <td>E185B2BD-29CE-40A6-B09D-00BF93711CF2</td>\n",
       "      <td>2020-05-13 18:52:30</td>\n",
       "      <td>2020-05-13 18:52:13</td>\n",
       "    </tr>\n",
       "    <tr>\n",
       "      <th>55</th>\n",
       "      <td>77605668</td>\n",
       "      <td>7F2D6208-8C0D-4AEB-9F1A-9CFEEC539FEA</td>\n",
       "      <td>E185B2BD-29CE-40A6-B09D-00BF93711CF2</td>\n",
       "      <td>2020-05-18 07:59:18</td>\n",
       "      <td>2020-05-18 07:57:53</td>\n",
       "    </tr>\n",
       "    <tr>\n",
       "      <th>114</th>\n",
       "      <td>72416995</td>\n",
       "      <td>9AF3D788-837F-457F-BE80-E168D96DB67F</td>\n",
       "      <td>E185B2BD-29CE-40A6-B09D-00BF93711CF2</td>\n",
       "      <td>2020-05-06 18:16:15</td>\n",
       "      <td>2020-05-06 18:15:10</td>\n",
       "    </tr>\n",
       "    <tr>\n",
       "      <th>181</th>\n",
       "      <td>83109127</td>\n",
       "      <td>FA58A49B-0414-4AAE-B0B2-829616A11726</td>\n",
       "      <td>E185B2BD-29CE-40A6-B09D-00BF93711CF2</td>\n",
       "      <td>2020-05-27 23:55:33</td>\n",
       "      <td>2020-05-27 23:54:11</td>\n",
       "    </tr>\n",
       "    <tr>\n",
       "      <th>337</th>\n",
       "      <td>75710391</td>\n",
       "      <td>7F2D6208-8C0D-4AEB-9F1A-9CFEEC539FEA</td>\n",
       "      <td>E185B2BD-29CE-40A6-B09D-00BF93711CF2</td>\n",
       "      <td>2020-05-14 11:42:02</td>\n",
       "      <td>2020-05-14 11:39:54</td>\n",
       "    </tr>\n",
       "    <tr>\n",
       "      <th>...</th>\n",
       "      <td>...</td>\n",
       "      <td>...</td>\n",
       "      <td>...</td>\n",
       "      <td>...</td>\n",
       "      <td>...</td>\n",
       "    </tr>\n",
       "    <tr>\n",
       "      <th>14138321</th>\n",
       "      <td>79896592</td>\n",
       "      <td>4994E3DD-404B-4967-B0B6-03D5E2FECB02</td>\n",
       "      <td>5DC4D7BE-1207-4CEC-98FA-E81AACCE90FD</td>\n",
       "      <td>2020-05-21 22:03:28</td>\n",
       "      <td>2020-05-21 22:03:18</td>\n",
       "    </tr>\n",
       "    <tr>\n",
       "      <th>14138480</th>\n",
       "      <td>79769636</td>\n",
       "      <td>7BF34BDD-6B2F-47D3-BAEA-84C307ADBE4C</td>\n",
       "      <td>5DC4D7BE-1207-4CEC-98FA-E81AACCE90FD</td>\n",
       "      <td>2020-05-21 18:10:20</td>\n",
       "      <td>2020-05-21 18:08:25</td>\n",
       "    </tr>\n",
       "    <tr>\n",
       "      <th>14138579</th>\n",
       "      <td>79945080</td>\n",
       "      <td>9ABEFF2C-31F5-410D-93B2-C73AA9578E05</td>\n",
       "      <td>5DC4D7BE-1207-4CEC-98FA-E81AACCE90FD</td>\n",
       "      <td>2020-05-21 23:57:15</td>\n",
       "      <td>2020-05-21 23:55:46</td>\n",
       "    </tr>\n",
       "    <tr>\n",
       "      <th>14138602</th>\n",
       "      <td>80372452</td>\n",
       "      <td>4E438CA0-DAF1-4111-9BE3-3E53D5442E4B</td>\n",
       "      <td>5DC4D7BE-1207-4CEC-98FA-E81AACCE90FD</td>\n",
       "      <td>2020-05-22 19:13:34</td>\n",
       "      <td>2020-05-22 19:11:03</td>\n",
       "    </tr>\n",
       "    <tr>\n",
       "      <th>14138699</th>\n",
       "      <td>80269619</td>\n",
       "      <td>588960DF-E6C3-406A-BBAA-94ED3690E985</td>\n",
       "      <td>5DC4D7BE-1207-4CEC-98FA-E81AACCE90FD</td>\n",
       "      <td>2020-05-22 16:06:37</td>\n",
       "      <td>2020-05-22 16:04:12</td>\n",
       "    </tr>\n",
       "  </tbody>\n",
       "</table>\n",
       "<p>114923 rows × 5 columns</p>\n",
       "</div>"
      ],
      "text/plain": [
       "           stat_id                           ebs_user_id  \\\n",
       "37        75570959  561E6530-AE24-4CB9-8D1E-25124AF5336C   \n",
       "55        77605668  7F2D6208-8C0D-4AEB-9F1A-9CFEEC539FEA   \n",
       "114       72416995  9AF3D788-837F-457F-BE80-E168D96DB67F   \n",
       "181       83109127  FA58A49B-0414-4AAE-B0B2-829616A11726   \n",
       "337       75710391  7F2D6208-8C0D-4AEB-9F1A-9CFEEC539FEA   \n",
       "...            ...                                   ...   \n",
       "14138321  79896592  4994E3DD-404B-4967-B0B6-03D5E2FECB02   \n",
       "14138480  79769636  7BF34BDD-6B2F-47D3-BAEA-84C307ADBE4C   \n",
       "14138579  79945080  9ABEFF2C-31F5-410D-93B2-C73AA9578E05   \n",
       "14138602  80372452  4E438CA0-DAF1-4111-9BE3-3E53D5442E4B   \n",
       "14138699  80269619  588960DF-E6C3-406A-BBAA-94ED3690E985   \n",
       "\n",
       "                                    content_id          start_date  \\\n",
       "37        E185B2BD-29CE-40A6-B09D-00BF93711CF2 2020-05-13 18:52:30   \n",
       "55        E185B2BD-29CE-40A6-B09D-00BF93711CF2 2020-05-18 07:59:18   \n",
       "114       E185B2BD-29CE-40A6-B09D-00BF93711CF2 2020-05-06 18:16:15   \n",
       "181       E185B2BD-29CE-40A6-B09D-00BF93711CF2 2020-05-27 23:55:33   \n",
       "337       E185B2BD-29CE-40A6-B09D-00BF93711CF2 2020-05-14 11:42:02   \n",
       "...                                        ...                 ...   \n",
       "14138321  5DC4D7BE-1207-4CEC-98FA-E81AACCE90FD 2020-05-21 22:03:28   \n",
       "14138480  5DC4D7BE-1207-4CEC-98FA-E81AACCE90FD 2020-05-21 18:10:20   \n",
       "14138579  5DC4D7BE-1207-4CEC-98FA-E81AACCE90FD 2020-05-21 23:57:15   \n",
       "14138602  5DC4D7BE-1207-4CEC-98FA-E81AACCE90FD 2020-05-22 19:13:34   \n",
       "14138699  5DC4D7BE-1207-4CEC-98FA-E81AACCE90FD 2020-05-22 16:06:37   \n",
       "\n",
       "                 finish_date  \n",
       "37       2020-05-13 18:52:13  \n",
       "55       2020-05-18 07:57:53  \n",
       "114      2020-05-06 18:15:10  \n",
       "181      2020-05-27 23:54:11  \n",
       "337      2020-05-14 11:39:54  \n",
       "...                      ...  \n",
       "14138321 2020-05-21 22:03:18  \n",
       "14138480 2020-05-21 18:08:25  \n",
       "14138579 2020-05-21 23:55:46  \n",
       "14138602 2020-05-22 19:11:03  \n",
       "14138699 2020-05-22 16:04:12  \n",
       "\n",
       "[114923 rows x 5 columns]"
      ]
     },
     "execution_count": 10,
     "metadata": {},
     "output_type": "execute_result"
    }
   ],
   "source": [
    "view[view.finish_date < view.start_date]"
   ]
  },
  {
   "cell_type": "markdown",
   "metadata": {},
   "source": [
    "Избавимся от этих ошибочных данных:"
   ]
  },
  {
   "cell_type": "code",
   "execution_count": 11,
   "metadata": {},
   "outputs": [],
   "source": [
    "view = view.drop(view[view.finish_date < view.start_date].index)"
   ]
  },
  {
   "cell_type": "code",
   "execution_count": 12,
   "metadata": {},
   "outputs": [
    {
     "name": "stdout",
     "output_type": "stream",
     "text": [
      "<class 'pandas.core.frame.DataFrame'>\n",
      "Int64Index: 14024112 entries, 0 to 14139034\n",
      "Data columns (total 5 columns):\n",
      " #   Column       Dtype         \n",
      "---  ------       -----         \n",
      " 0   stat_id      int64         \n",
      " 1   ebs_user_id  object        \n",
      " 2   content_id   object        \n",
      " 3   start_date   datetime64[ns]\n",
      " 4   finish_date  datetime64[ns]\n",
      "dtypes: datetime64[ns](2), int64(1), object(2)\n",
      "memory usage: 642.0+ MB\n"
     ]
    }
   ],
   "source": [
    "view.info()"
   ]
  },
  {
   "cell_type": "markdown",
   "metadata": {},
   "source": [
    "В таблице 'quiz' также присутствуют ошибочные данные, в которых дата и время окончания теста является более ранней, чем дата и время начала теста:"
   ]
  },
  {
   "cell_type": "code",
   "execution_count": 13,
   "metadata": {},
   "outputs": [
    {
     "data": {
      "text/html": [
       "<div>\n",
       "<style scoped>\n",
       "    .dataframe tbody tr th:only-of-type {\n",
       "        vertical-align: middle;\n",
       "    }\n",
       "\n",
       "    .dataframe tbody tr th {\n",
       "        vertical-align: top;\n",
       "    }\n",
       "\n",
       "    .dataframe thead th {\n",
       "        text-align: right;\n",
       "    }\n",
       "</style>\n",
       "<table border=\"1\" class=\"dataframe\">\n",
       "  <thead>\n",
       "    <tr style=\"text-align: right;\">\n",
       "      <th></th>\n",
       "      <th>quiz_user_id</th>\n",
       "      <th>ebs_user_id</th>\n",
       "      <th>content_id</th>\n",
       "      <th>quiz_id</th>\n",
       "      <th>score</th>\n",
       "      <th>total_score</th>\n",
       "      <th>create_at</th>\n",
       "      <th>finish_at</th>\n",
       "    </tr>\n",
       "  </thead>\n",
       "  <tbody>\n",
       "    <tr>\n",
       "      <th>35685</th>\n",
       "      <td>90677</td>\n",
       "      <td>4F9F7EFE-F827-403A-B418-329FF1F49881</td>\n",
       "      <td>2750497E-F894-4BEF-839A-18EBC2C32255</td>\n",
       "      <td>0E75614C-F90A-42B4-9737-DABF7F433545</td>\n",
       "      <td>1.0</td>\n",
       "      <td>1</td>\n",
       "      <td>2020-04-06 12:41:10</td>\n",
       "      <td>2020-04-06 12:41:08</td>\n",
       "    </tr>\n",
       "    <tr>\n",
       "      <th>35686</th>\n",
       "      <td>90677</td>\n",
       "      <td>4F9F7EFE-F827-403A-B418-329FF1F49881</td>\n",
       "      <td>2F504A69-85BE-4D26-AC1D-E31B2BEA8956</td>\n",
       "      <td>0E75614C-F90A-42B4-9737-DABF7F433545</td>\n",
       "      <td>1.0</td>\n",
       "      <td>1</td>\n",
       "      <td>2020-04-06 12:41:10</td>\n",
       "      <td>2020-04-06 12:41:08</td>\n",
       "    </tr>\n",
       "    <tr>\n",
       "      <th>35687</th>\n",
       "      <td>90677</td>\n",
       "      <td>4F9F7EFE-F827-403A-B418-329FF1F49881</td>\n",
       "      <td>88712D63-7F11-4656-AC46-0382875E34CB</td>\n",
       "      <td>0E75614C-F90A-42B4-9737-DABF7F433545</td>\n",
       "      <td>1.0</td>\n",
       "      <td>1</td>\n",
       "      <td>2020-04-06 12:41:10</td>\n",
       "      <td>2020-04-06 12:41:08</td>\n",
       "    </tr>\n",
       "    <tr>\n",
       "      <th>35688</th>\n",
       "      <td>90677</td>\n",
       "      <td>4F9F7EFE-F827-403A-B418-329FF1F49881</td>\n",
       "      <td>0C8811A1-5AB8-4205-9C3C-88A5C418EDD4</td>\n",
       "      <td>0E75614C-F90A-42B4-9737-DABF7F433545</td>\n",
       "      <td>1.0</td>\n",
       "      <td>1</td>\n",
       "      <td>2020-04-06 12:41:10</td>\n",
       "      <td>2020-04-06 12:41:08</td>\n",
       "    </tr>\n",
       "    <tr>\n",
       "      <th>35689</th>\n",
       "      <td>90677</td>\n",
       "      <td>4F9F7EFE-F827-403A-B418-329FF1F49881</td>\n",
       "      <td>2BF05991-384D-478F-95C2-B545E3C50A48</td>\n",
       "      <td>0E75614C-F90A-42B4-9737-DABF7F433545</td>\n",
       "      <td>1.0</td>\n",
       "      <td>1</td>\n",
       "      <td>2020-04-06 12:41:10</td>\n",
       "      <td>2020-04-06 12:41:08</td>\n",
       "    </tr>\n",
       "    <tr>\n",
       "      <th>...</th>\n",
       "      <td>...</td>\n",
       "      <td>...</td>\n",
       "      <td>...</td>\n",
       "      <td>...</td>\n",
       "      <td>...</td>\n",
       "      <td>...</td>\n",
       "      <td>...</td>\n",
       "      <td>...</td>\n",
       "    </tr>\n",
       "    <tr>\n",
       "      <th>1276016</th>\n",
       "      <td>261052</td>\n",
       "      <td>5810BB8B-0D07-48CD-865B-5E0857C62093</td>\n",
       "      <td>5A17C2F6-D817-42E5-A4D5-94EEC35A846F</td>\n",
       "      <td>042C5413-BD0B-45DE-B1CB-4F8EBA4B9C01</td>\n",
       "      <td>0.0</td>\n",
       "      <td>1</td>\n",
       "      <td>2020-05-31 23:32:53</td>\n",
       "      <td>2020-05-31 23:32:30</td>\n",
       "    </tr>\n",
       "    <tr>\n",
       "      <th>1276017</th>\n",
       "      <td>261052</td>\n",
       "      <td>5810BB8B-0D07-48CD-865B-5E0857C62093</td>\n",
       "      <td>A90761FB-4C90-4AE1-8369-FC4112000AA4</td>\n",
       "      <td>042C5413-BD0B-45DE-B1CB-4F8EBA4B9C01</td>\n",
       "      <td>0.0</td>\n",
       "      <td>1</td>\n",
       "      <td>2020-05-31 23:32:53</td>\n",
       "      <td>2020-05-31 23:32:30</td>\n",
       "    </tr>\n",
       "    <tr>\n",
       "      <th>1276018</th>\n",
       "      <td>261052</td>\n",
       "      <td>5810BB8B-0D07-48CD-865B-5E0857C62093</td>\n",
       "      <td>E9956EC4-16E5-4CC8-A3CA-1FEF6078225A</td>\n",
       "      <td>042C5413-BD0B-45DE-B1CB-4F8EBA4B9C01</td>\n",
       "      <td>0.0</td>\n",
       "      <td>1</td>\n",
       "      <td>2020-05-31 23:32:53</td>\n",
       "      <td>2020-05-31 23:32:30</td>\n",
       "    </tr>\n",
       "    <tr>\n",
       "      <th>1276093</th>\n",
       "      <td>261063</td>\n",
       "      <td>4B67A7FA-432B-4BB7-9C8C-4288E35D3364</td>\n",
       "      <td>3F261A7B-E69A-4A86-BB17-1BAEF0D422FC</td>\n",
       "      <td>60B5DFC7-06B7-47E1-8D7A-3D71B4DF7DB5</td>\n",
       "      <td>6.0</td>\n",
       "      <td>9</td>\n",
       "      <td>2020-05-31 23:43:10</td>\n",
       "      <td>2020-05-31 23:41:59</td>\n",
       "    </tr>\n",
       "    <tr>\n",
       "      <th>1276094</th>\n",
       "      <td>261063</td>\n",
       "      <td>4B67A7FA-432B-4BB7-9C8C-4288E35D3364</td>\n",
       "      <td>419B73C7-64AA-4511-B421-4340D926F6B8</td>\n",
       "      <td>60B5DFC7-06B7-47E1-8D7A-3D71B4DF7DB5</td>\n",
       "      <td>6.0</td>\n",
       "      <td>9</td>\n",
       "      <td>2020-05-31 23:43:10</td>\n",
       "      <td>2020-05-31 23:41:59</td>\n",
       "    </tr>\n",
       "  </tbody>\n",
       "</table>\n",
       "<p>22675 rows × 8 columns</p>\n",
       "</div>"
      ],
      "text/plain": [
       "         quiz_user_id                           ebs_user_id  \\\n",
       "35685           90677  4F9F7EFE-F827-403A-B418-329FF1F49881   \n",
       "35686           90677  4F9F7EFE-F827-403A-B418-329FF1F49881   \n",
       "35687           90677  4F9F7EFE-F827-403A-B418-329FF1F49881   \n",
       "35688           90677  4F9F7EFE-F827-403A-B418-329FF1F49881   \n",
       "35689           90677  4F9F7EFE-F827-403A-B418-329FF1F49881   \n",
       "...               ...                                   ...   \n",
       "1276016        261052  5810BB8B-0D07-48CD-865B-5E0857C62093   \n",
       "1276017        261052  5810BB8B-0D07-48CD-865B-5E0857C62093   \n",
       "1276018        261052  5810BB8B-0D07-48CD-865B-5E0857C62093   \n",
       "1276093        261063  4B67A7FA-432B-4BB7-9C8C-4288E35D3364   \n",
       "1276094        261063  4B67A7FA-432B-4BB7-9C8C-4288E35D3364   \n",
       "\n",
       "                                   content_id  \\\n",
       "35685    2750497E-F894-4BEF-839A-18EBC2C32255   \n",
       "35686    2F504A69-85BE-4D26-AC1D-E31B2BEA8956   \n",
       "35687    88712D63-7F11-4656-AC46-0382875E34CB   \n",
       "35688    0C8811A1-5AB8-4205-9C3C-88A5C418EDD4   \n",
       "35689    2BF05991-384D-478F-95C2-B545E3C50A48   \n",
       "...                                       ...   \n",
       "1276016  5A17C2F6-D817-42E5-A4D5-94EEC35A846F   \n",
       "1276017  A90761FB-4C90-4AE1-8369-FC4112000AA4   \n",
       "1276018  E9956EC4-16E5-4CC8-A3CA-1FEF6078225A   \n",
       "1276093  3F261A7B-E69A-4A86-BB17-1BAEF0D422FC   \n",
       "1276094  419B73C7-64AA-4511-B421-4340D926F6B8   \n",
       "\n",
       "                                      quiz_id  score  total_score  \\\n",
       "35685    0E75614C-F90A-42B4-9737-DABF7F433545    1.0            1   \n",
       "35686    0E75614C-F90A-42B4-9737-DABF7F433545    1.0            1   \n",
       "35687    0E75614C-F90A-42B4-9737-DABF7F433545    1.0            1   \n",
       "35688    0E75614C-F90A-42B4-9737-DABF7F433545    1.0            1   \n",
       "35689    0E75614C-F90A-42B4-9737-DABF7F433545    1.0            1   \n",
       "...                                       ...    ...          ...   \n",
       "1276016  042C5413-BD0B-45DE-B1CB-4F8EBA4B9C01    0.0            1   \n",
       "1276017  042C5413-BD0B-45DE-B1CB-4F8EBA4B9C01    0.0            1   \n",
       "1276018  042C5413-BD0B-45DE-B1CB-4F8EBA4B9C01    0.0            1   \n",
       "1276093  60B5DFC7-06B7-47E1-8D7A-3D71B4DF7DB5    6.0            9   \n",
       "1276094  60B5DFC7-06B7-47E1-8D7A-3D71B4DF7DB5    6.0            9   \n",
       "\n",
       "                  create_at           finish_at  \n",
       "35685   2020-04-06 12:41:10 2020-04-06 12:41:08  \n",
       "35686   2020-04-06 12:41:10 2020-04-06 12:41:08  \n",
       "35687   2020-04-06 12:41:10 2020-04-06 12:41:08  \n",
       "35688   2020-04-06 12:41:10 2020-04-06 12:41:08  \n",
       "35689   2020-04-06 12:41:10 2020-04-06 12:41:08  \n",
       "...                     ...                 ...  \n",
       "1276016 2020-05-31 23:32:53 2020-05-31 23:32:30  \n",
       "1276017 2020-05-31 23:32:53 2020-05-31 23:32:30  \n",
       "1276018 2020-05-31 23:32:53 2020-05-31 23:32:30  \n",
       "1276093 2020-05-31 23:43:10 2020-05-31 23:41:59  \n",
       "1276094 2020-05-31 23:43:10 2020-05-31 23:41:59  \n",
       "\n",
       "[22675 rows x 8 columns]"
      ]
     },
     "execution_count": 13,
     "metadata": {},
     "output_type": "execute_result"
    }
   ],
   "source": [
    "quiz[quiz.finish_at < quiz.create_at]"
   ]
  },
  {
   "cell_type": "markdown",
   "metadata": {},
   "source": [
    "Также избавляемся от ошибочных данных:"
   ]
  },
  {
   "cell_type": "code",
   "execution_count": 14,
   "metadata": {},
   "outputs": [],
   "source": [
    "quiz = quiz.drop(quiz[quiz.finish_at < quiz.create_at].index)"
   ]
  },
  {
   "cell_type": "markdown",
   "metadata": {},
   "source": [
    "Добавим в таблицу view столбец time - продолжительность изучения учебного материала:"
   ]
  },
  {
   "cell_type": "code",
   "execution_count": 15,
   "metadata": {},
   "outputs": [],
   "source": [
    "view['time'] = view.finish_date - view.start_date"
   ]
  },
  {
   "cell_type": "markdown",
   "metadata": {},
   "source": [
    "В таблицу quiz добавим столбец со значениями относительного балла за тест:"
   ]
  },
  {
   "cell_type": "code",
   "execution_count": 16,
   "metadata": {},
   "outputs": [],
   "source": [
    "quiz['rel_score'] = quiz.score / quiz.total_score"
   ]
  },
  {
   "cell_type": "markdown",
   "metadata": {},
   "source": [
    "Удаляем ошибочные данные, в которых относительный балл выше 1:"
   ]
  },
  {
   "cell_type": "code",
   "execution_count": 17,
   "metadata": {},
   "outputs": [],
   "source": [
    "quiz = quiz.drop(quiz[quiz['rel_score'] > 1].index)"
   ]
  },
  {
   "cell_type": "markdown",
   "metadata": {},
   "source": [
    "Для каждой уникальной комбинации \"пользователь - учебный_материал\" добавляем столбец с самым поздним временем окончания последнего экзамена:"
   ]
  },
  {
   "cell_type": "code",
   "execution_count": 18,
   "metadata": {},
   "outputs": [],
   "source": [
    "quiz['max_finish'] = quiz.groupby(['ebs_user_id', 'content_id'])['finish_at'].transform('max')"
   ]
  },
  {
   "cell_type": "code",
   "execution_count": 19,
   "metadata": {},
   "outputs": [
    {
     "data": {
      "text/html": [
       "<div>\n",
       "<style scoped>\n",
       "    .dataframe tbody tr th:only-of-type {\n",
       "        vertical-align: middle;\n",
       "    }\n",
       "\n",
       "    .dataframe tbody tr th {\n",
       "        vertical-align: top;\n",
       "    }\n",
       "\n",
       "    .dataframe thead th {\n",
       "        text-align: right;\n",
       "    }\n",
       "</style>\n",
       "<table border=\"1\" class=\"dataframe\">\n",
       "  <thead>\n",
       "    <tr style=\"text-align: right;\">\n",
       "      <th></th>\n",
       "      <th>quiz_user_id</th>\n",
       "      <th>ebs_user_id</th>\n",
       "      <th>content_id</th>\n",
       "      <th>quiz_id</th>\n",
       "      <th>score</th>\n",
       "      <th>total_score</th>\n",
       "      <th>create_at</th>\n",
       "      <th>finish_at</th>\n",
       "      <th>rel_score</th>\n",
       "      <th>max_finish</th>\n",
       "    </tr>\n",
       "  </thead>\n",
       "  <tbody>\n",
       "    <tr>\n",
       "      <th>0</th>\n",
       "      <td>85448</td>\n",
       "      <td>DAE1D1A4-294E-4B66-8C8C-5BD0E7B88C5C</td>\n",
       "      <td>8396304F-DFC9-4DB9-9200-02F5911078EA</td>\n",
       "      <td>11F7E721-67E8-4708-9207-3D9683481E93</td>\n",
       "      <td>20.0</td>\n",
       "      <td>22</td>\n",
       "      <td>2020-04-01 00:22:21</td>\n",
       "      <td>2020-04-01 00:30:42</td>\n",
       "      <td>0.909091</td>\n",
       "      <td>2020-04-01 00:30:42</td>\n",
       "    </tr>\n",
       "    <tr>\n",
       "      <th>1</th>\n",
       "      <td>85448</td>\n",
       "      <td>DAE1D1A4-294E-4B66-8C8C-5BD0E7B88C5C</td>\n",
       "      <td>DAAAF6F5-3769-47B6-91B1-02119C087D6C</td>\n",
       "      <td>11F7E721-67E8-4708-9207-3D9683481E93</td>\n",
       "      <td>20.0</td>\n",
       "      <td>22</td>\n",
       "      <td>2020-04-01 00:22:21</td>\n",
       "      <td>2020-04-01 00:30:42</td>\n",
       "      <td>0.909091</td>\n",
       "      <td>2020-04-01 00:30:42</td>\n",
       "    </tr>\n",
       "    <tr>\n",
       "      <th>2</th>\n",
       "      <td>85449</td>\n",
       "      <td>2EE248CF-E355-49F7-9ADC-12E2E1CCF3F6</td>\n",
       "      <td>5E6AB4AB-2760-4B30-A0C1-FBA265AB4AB3</td>\n",
       "      <td>BFB506DA-1555-410F-8F2C-F6155B496036</td>\n",
       "      <td>2.0</td>\n",
       "      <td>10</td>\n",
       "      <td>2020-04-01 00:37:00</td>\n",
       "      <td>2020-04-01 15:34:34</td>\n",
       "      <td>0.200000</td>\n",
       "      <td>2020-04-01 15:34:34</td>\n",
       "    </tr>\n",
       "    <tr>\n",
       "      <th>3</th>\n",
       "      <td>85449</td>\n",
       "      <td>2EE248CF-E355-49F7-9ADC-12E2E1CCF3F6</td>\n",
       "      <td>EA8D12B5-FB78-4B35-8F7F-17C6AA371981</td>\n",
       "      <td>BFB506DA-1555-410F-8F2C-F6155B496036</td>\n",
       "      <td>2.0</td>\n",
       "      <td>10</td>\n",
       "      <td>2020-04-01 00:37:00</td>\n",
       "      <td>2020-04-01 15:34:34</td>\n",
       "      <td>0.200000</td>\n",
       "      <td>2020-04-01 15:34:34</td>\n",
       "    </tr>\n",
       "    <tr>\n",
       "      <th>4</th>\n",
       "      <td>85449</td>\n",
       "      <td>2EE248CF-E355-49F7-9ADC-12E2E1CCF3F6</td>\n",
       "      <td>A3C775E3-39A1-455E-8036-5015DC15E0D1</td>\n",
       "      <td>BFB506DA-1555-410F-8F2C-F6155B496036</td>\n",
       "      <td>2.0</td>\n",
       "      <td>10</td>\n",
       "      <td>2020-04-01 00:37:00</td>\n",
       "      <td>2020-04-01 15:34:34</td>\n",
       "      <td>0.200000</td>\n",
       "      <td>2020-04-01 15:34:34</td>\n",
       "    </tr>\n",
       "  </tbody>\n",
       "</table>\n",
       "</div>"
      ],
      "text/plain": [
       "   quiz_user_id                           ebs_user_id  \\\n",
       "0         85448  DAE1D1A4-294E-4B66-8C8C-5BD0E7B88C5C   \n",
       "1         85448  DAE1D1A4-294E-4B66-8C8C-5BD0E7B88C5C   \n",
       "2         85449  2EE248CF-E355-49F7-9ADC-12E2E1CCF3F6   \n",
       "3         85449  2EE248CF-E355-49F7-9ADC-12E2E1CCF3F6   \n",
       "4         85449  2EE248CF-E355-49F7-9ADC-12E2E1CCF3F6   \n",
       "\n",
       "                             content_id                               quiz_id  \\\n",
       "0  8396304F-DFC9-4DB9-9200-02F5911078EA  11F7E721-67E8-4708-9207-3D9683481E93   \n",
       "1  DAAAF6F5-3769-47B6-91B1-02119C087D6C  11F7E721-67E8-4708-9207-3D9683481E93   \n",
       "2  5E6AB4AB-2760-4B30-A0C1-FBA265AB4AB3  BFB506DA-1555-410F-8F2C-F6155B496036   \n",
       "3  EA8D12B5-FB78-4B35-8F7F-17C6AA371981  BFB506DA-1555-410F-8F2C-F6155B496036   \n",
       "4  A3C775E3-39A1-455E-8036-5015DC15E0D1  BFB506DA-1555-410F-8F2C-F6155B496036   \n",
       "\n",
       "   score  total_score           create_at           finish_at  rel_score  \\\n",
       "0   20.0           22 2020-04-01 00:22:21 2020-04-01 00:30:42   0.909091   \n",
       "1   20.0           22 2020-04-01 00:22:21 2020-04-01 00:30:42   0.909091   \n",
       "2    2.0           10 2020-04-01 00:37:00 2020-04-01 15:34:34   0.200000   \n",
       "3    2.0           10 2020-04-01 00:37:00 2020-04-01 15:34:34   0.200000   \n",
       "4    2.0           10 2020-04-01 00:37:00 2020-04-01 15:34:34   0.200000   \n",
       "\n",
       "           max_finish  \n",
       "0 2020-04-01 00:30:42  \n",
       "1 2020-04-01 00:30:42  \n",
       "2 2020-04-01 15:34:34  \n",
       "3 2020-04-01 15:34:34  \n",
       "4 2020-04-01 15:34:34  "
      ]
     },
     "execution_count": 19,
     "metadata": {},
     "output_type": "execute_result"
    }
   ],
   "source": [
    "quiz.head()"
   ]
  },
  {
   "cell_type": "markdown",
   "metadata": {},
   "source": [
    "Соединяем таблицы 'view' и 'quiz' по принципу равенства значений в столбцах 'ebs_user_id', 'content_id':"
   ]
  },
  {
   "cell_type": "code",
   "execution_count": 20,
   "metadata": {},
   "outputs": [],
   "source": [
    "df_1 = view.merge(quiz, on = ['ebs_user_id', 'content_id'], how = 'inner')"
   ]
  },
  {
   "cell_type": "markdown",
   "metadata": {},
   "source": [
    "Удаляем строки с пропусками в данных:"
   ]
  },
  {
   "cell_type": "code",
   "execution_count": 21,
   "metadata": {},
   "outputs": [],
   "source": [
    "df_1 = df_1.dropna()"
   ]
  },
  {
   "cell_type": "code",
   "execution_count": 22,
   "metadata": {},
   "outputs": [
    {
     "data": {
      "text/html": [
       "<div>\n",
       "<style scoped>\n",
       "    .dataframe tbody tr th:only-of-type {\n",
       "        vertical-align: middle;\n",
       "    }\n",
       "\n",
       "    .dataframe tbody tr th {\n",
       "        vertical-align: top;\n",
       "    }\n",
       "\n",
       "    .dataframe thead th {\n",
       "        text-align: right;\n",
       "    }\n",
       "</style>\n",
       "<table border=\"1\" class=\"dataframe\">\n",
       "  <thead>\n",
       "    <tr style=\"text-align: right;\">\n",
       "      <th></th>\n",
       "      <th>stat_id</th>\n",
       "      <th>ebs_user_id</th>\n",
       "      <th>content_id</th>\n",
       "      <th>start_date</th>\n",
       "      <th>finish_date</th>\n",
       "      <th>time</th>\n",
       "      <th>quiz_user_id</th>\n",
       "      <th>quiz_id</th>\n",
       "      <th>score</th>\n",
       "      <th>total_score</th>\n",
       "      <th>create_at</th>\n",
       "      <th>finish_at</th>\n",
       "      <th>rel_score</th>\n",
       "      <th>max_finish</th>\n",
       "    </tr>\n",
       "  </thead>\n",
       "  <tbody>\n",
       "    <tr>\n",
       "      <th>0</th>\n",
       "      <td>75106770</td>\n",
       "      <td>1BF42858-F33A-442C-8994-B7AE9FA10F9C</td>\n",
       "      <td>F0B50783-A9CB-4989-A681-00C768C5E147</td>\n",
       "      <td>2020-05-12 17:21:06</td>\n",
       "      <td>2020-05-12 17:28:22</td>\n",
       "      <td>00:07:16</td>\n",
       "      <td>152880</td>\n",
       "      <td>7B8CC093-09C9-4E76-AC95-B6595B598FEE</td>\n",
       "      <td>6.0</td>\n",
       "      <td>7</td>\n",
       "      <td>2020-04-25 11:41:04</td>\n",
       "      <td>2020-04-25 11:44:52</td>\n",
       "      <td>0.857143</td>\n",
       "      <td>2020-04-25 11:46:59</td>\n",
       "    </tr>\n",
       "    <tr>\n",
       "      <th>1</th>\n",
       "      <td>75106770</td>\n",
       "      <td>1BF42858-F33A-442C-8994-B7AE9FA10F9C</td>\n",
       "      <td>F0B50783-A9CB-4989-A681-00C768C5E147</td>\n",
       "      <td>2020-05-12 17:21:06</td>\n",
       "      <td>2020-05-12 17:28:22</td>\n",
       "      <td>00:07:16</td>\n",
       "      <td>152910</td>\n",
       "      <td>7B8CC093-09C9-4E76-AC95-B6595B598FEE</td>\n",
       "      <td>6.0</td>\n",
       "      <td>7</td>\n",
       "      <td>2020-04-25 11:45:30</td>\n",
       "      <td>2020-04-25 11:46:59</td>\n",
       "      <td>0.857143</td>\n",
       "      <td>2020-04-25 11:46:59</td>\n",
       "    </tr>\n",
       "    <tr>\n",
       "      <th>3</th>\n",
       "      <td>78703574</td>\n",
       "      <td>1BF42858-F33A-442C-8994-B7AE9FA10F9C</td>\n",
       "      <td>F0B50783-A9CB-4989-A681-00C768C5E147</td>\n",
       "      <td>2020-05-19 22:32:51</td>\n",
       "      <td>2020-05-19 22:39:02</td>\n",
       "      <td>00:06:11</td>\n",
       "      <td>152880</td>\n",
       "      <td>7B8CC093-09C9-4E76-AC95-B6595B598FEE</td>\n",
       "      <td>6.0</td>\n",
       "      <td>7</td>\n",
       "      <td>2020-04-25 11:41:04</td>\n",
       "      <td>2020-04-25 11:44:52</td>\n",
       "      <td>0.857143</td>\n",
       "      <td>2020-04-25 11:46:59</td>\n",
       "    </tr>\n",
       "    <tr>\n",
       "      <th>4</th>\n",
       "      <td>78703574</td>\n",
       "      <td>1BF42858-F33A-442C-8994-B7AE9FA10F9C</td>\n",
       "      <td>F0B50783-A9CB-4989-A681-00C768C5E147</td>\n",
       "      <td>2020-05-19 22:32:51</td>\n",
       "      <td>2020-05-19 22:39:02</td>\n",
       "      <td>00:06:11</td>\n",
       "      <td>152910</td>\n",
       "      <td>7B8CC093-09C9-4E76-AC95-B6595B598FEE</td>\n",
       "      <td>6.0</td>\n",
       "      <td>7</td>\n",
       "      <td>2020-04-25 11:45:30</td>\n",
       "      <td>2020-04-25 11:46:59</td>\n",
       "      <td>0.857143</td>\n",
       "      <td>2020-04-25 11:46:59</td>\n",
       "    </tr>\n",
       "    <tr>\n",
       "      <th>6</th>\n",
       "      <td>76099224</td>\n",
       "      <td>1BF42858-F33A-442C-8994-B7AE9FA10F9C</td>\n",
       "      <td>F0B50783-A9CB-4989-A681-00C768C5E147</td>\n",
       "      <td>2020-05-15 01:47:51</td>\n",
       "      <td>2020-05-15 01:51:02</td>\n",
       "      <td>00:03:11</td>\n",
       "      <td>152880</td>\n",
       "      <td>7B8CC093-09C9-4E76-AC95-B6595B598FEE</td>\n",
       "      <td>6.0</td>\n",
       "      <td>7</td>\n",
       "      <td>2020-04-25 11:41:04</td>\n",
       "      <td>2020-04-25 11:44:52</td>\n",
       "      <td>0.857143</td>\n",
       "      <td>2020-04-25 11:46:59</td>\n",
       "    </tr>\n",
       "  </tbody>\n",
       "</table>\n",
       "</div>"
      ],
      "text/plain": [
       "    stat_id                           ebs_user_id  \\\n",
       "0  75106770  1BF42858-F33A-442C-8994-B7AE9FA10F9C   \n",
       "1  75106770  1BF42858-F33A-442C-8994-B7AE9FA10F9C   \n",
       "3  78703574  1BF42858-F33A-442C-8994-B7AE9FA10F9C   \n",
       "4  78703574  1BF42858-F33A-442C-8994-B7AE9FA10F9C   \n",
       "6  76099224  1BF42858-F33A-442C-8994-B7AE9FA10F9C   \n",
       "\n",
       "                             content_id          start_date  \\\n",
       "0  F0B50783-A9CB-4989-A681-00C768C5E147 2020-05-12 17:21:06   \n",
       "1  F0B50783-A9CB-4989-A681-00C768C5E147 2020-05-12 17:21:06   \n",
       "3  F0B50783-A9CB-4989-A681-00C768C5E147 2020-05-19 22:32:51   \n",
       "4  F0B50783-A9CB-4989-A681-00C768C5E147 2020-05-19 22:32:51   \n",
       "6  F0B50783-A9CB-4989-A681-00C768C5E147 2020-05-15 01:47:51   \n",
       "\n",
       "          finish_date     time  quiz_user_id  \\\n",
       "0 2020-05-12 17:28:22 00:07:16        152880   \n",
       "1 2020-05-12 17:28:22 00:07:16        152910   \n",
       "3 2020-05-19 22:39:02 00:06:11        152880   \n",
       "4 2020-05-19 22:39:02 00:06:11        152910   \n",
       "6 2020-05-15 01:51:02 00:03:11        152880   \n",
       "\n",
       "                                quiz_id  score  total_score  \\\n",
       "0  7B8CC093-09C9-4E76-AC95-B6595B598FEE    6.0            7   \n",
       "1  7B8CC093-09C9-4E76-AC95-B6595B598FEE    6.0            7   \n",
       "3  7B8CC093-09C9-4E76-AC95-B6595B598FEE    6.0            7   \n",
       "4  7B8CC093-09C9-4E76-AC95-B6595B598FEE    6.0            7   \n",
       "6  7B8CC093-09C9-4E76-AC95-B6595B598FEE    6.0            7   \n",
       "\n",
       "            create_at           finish_at  rel_score          max_finish  \n",
       "0 2020-04-25 11:41:04 2020-04-25 11:44:52   0.857143 2020-04-25 11:46:59  \n",
       "1 2020-04-25 11:45:30 2020-04-25 11:46:59   0.857143 2020-04-25 11:46:59  \n",
       "3 2020-04-25 11:41:04 2020-04-25 11:44:52   0.857143 2020-04-25 11:46:59  \n",
       "4 2020-04-25 11:45:30 2020-04-25 11:46:59   0.857143 2020-04-25 11:46:59  \n",
       "6 2020-04-25 11:41:04 2020-04-25 11:44:52   0.857143 2020-04-25 11:46:59  "
      ]
     },
     "execution_count": 22,
     "metadata": {},
     "output_type": "execute_result"
    }
   ],
   "source": [
    "df_1.head()"
   ]
  },
  {
   "cell_type": "code",
   "execution_count": 23,
   "metadata": {},
   "outputs": [
    {
     "data": {
      "text/plain": [
       "(2554167, 14)"
      ]
     },
     "execution_count": 23,
     "metadata": {},
     "output_type": "execute_result"
    }
   ],
   "source": [
    "df_1.shape"
   ]
  },
  {
   "cell_type": "markdown",
   "metadata": {},
   "source": [
    "Удаляем строки с данными, в которых для уникального сочетания \"пользователь - учебный материал\" дата и время начала изучения материала является более поздней, чем дата окончания последнего теста по этому учебному материалу. Продложительность изучения материала после последнего теста по нему не влияет на текущий результат. "
   ]
  },
  {
   "cell_type": "code",
   "execution_count": 24,
   "metadata": {},
   "outputs": [],
   "source": [
    "df_1 = df_1.drop(df_1[df_1.start_date <= df_1.max_finish].index)"
   ]
  },
  {
   "cell_type": "code",
   "execution_count": 25,
   "metadata": {},
   "outputs": [
    {
     "data": {
      "text/plain": [
       "(880282, 14)"
      ]
     },
     "execution_count": 25,
     "metadata": {},
     "output_type": "execute_result"
    }
   ],
   "source": [
    "df_1.shape"
   ]
  },
  {
   "cell_type": "markdown",
   "metadata": {},
   "source": [
    "Выделяем из полученной таблицы данные по изучению учебных материалов, удаляем дубликаты строк и вычисляем для каждой уникальной пары \"пользователь-учебный материал\" общее потраченное на изучение материала время:"
   ]
  },
  {
   "cell_type": "code",
   "execution_count": 26,
   "metadata": {},
   "outputs": [],
   "source": [
    "df_2 = df_1[['stat_id', 'ebs_user_id', 'content_id', 'start_date', 'finish_date',\n",
    "       'time']].drop_duplicates()"
   ]
  },
  {
   "cell_type": "code",
   "execution_count": 27,
   "metadata": {},
   "outputs": [],
   "source": [
    "sum_time = df_2.groupby(['ebs_user_id', 'content_id'], as_index=False).time.sum()"
   ]
  },
  {
   "cell_type": "code",
   "execution_count": 28,
   "metadata": {},
   "outputs": [],
   "source": [
    "sum_time.rename(columns={'time': 'total_time'}, inplace=True)"
   ]
  },
  {
   "cell_type": "code",
   "execution_count": 29,
   "metadata": {},
   "outputs": [
    {
     "data": {
      "text/html": [
       "<div>\n",
       "<style scoped>\n",
       "    .dataframe tbody tr th:only-of-type {\n",
       "        vertical-align: middle;\n",
       "    }\n",
       "\n",
       "    .dataframe tbody tr th {\n",
       "        vertical-align: top;\n",
       "    }\n",
       "\n",
       "    .dataframe thead th {\n",
       "        text-align: right;\n",
       "    }\n",
       "</style>\n",
       "<table border=\"1\" class=\"dataframe\">\n",
       "  <thead>\n",
       "    <tr style=\"text-align: right;\">\n",
       "      <th></th>\n",
       "      <th>ebs_user_id</th>\n",
       "      <th>content_id</th>\n",
       "      <th>total_time</th>\n",
       "    </tr>\n",
       "  </thead>\n",
       "  <tbody>\n",
       "    <tr>\n",
       "      <th>0</th>\n",
       "      <td>0004B617-2202-4176-A92C-8419AFD35D8F</td>\n",
       "      <td>3A8F9828-C9C3-4FDF-A5E0-57BC721E3FC2</td>\n",
       "      <td>02:58:56</td>\n",
       "    </tr>\n",
       "    <tr>\n",
       "      <th>1</th>\n",
       "      <td>0004B617-2202-4176-A92C-8419AFD35D8F</td>\n",
       "      <td>D4BCB71D-E3A9-47DE-BE5E-5E6DA7C53A1C</td>\n",
       "      <td>02:21:15</td>\n",
       "    </tr>\n",
       "    <tr>\n",
       "      <th>2</th>\n",
       "      <td>000C16EC-1F9C-4C99-970A-28866BCBE40C</td>\n",
       "      <td>0E5A6AFC-9616-4454-967D-AF99FB35DA14</td>\n",
       "      <td>01:47:36</td>\n",
       "    </tr>\n",
       "    <tr>\n",
       "      <th>3</th>\n",
       "      <td>000E7F89-5642-4B91-AB6E-605C1EC526D7</td>\n",
       "      <td>88C833F0-D557-4279-8E15-38E68FF40D1C</td>\n",
       "      <td>00:12:37</td>\n",
       "    </tr>\n",
       "    <tr>\n",
       "      <th>4</th>\n",
       "      <td>000E7F89-5642-4B91-AB6E-605C1EC526D7</td>\n",
       "      <td>D723D76E-E48A-426D-898C-EADE79C89C48</td>\n",
       "      <td>02:31:47</td>\n",
       "    </tr>\n",
       "  </tbody>\n",
       "</table>\n",
       "</div>"
      ],
      "text/plain": [
       "                            ebs_user_id                            content_id  \\\n",
       "0  0004B617-2202-4176-A92C-8419AFD35D8F  3A8F9828-C9C3-4FDF-A5E0-57BC721E3FC2   \n",
       "1  0004B617-2202-4176-A92C-8419AFD35D8F  D4BCB71D-E3A9-47DE-BE5E-5E6DA7C53A1C   \n",
       "2  000C16EC-1F9C-4C99-970A-28866BCBE40C  0E5A6AFC-9616-4454-967D-AF99FB35DA14   \n",
       "3  000E7F89-5642-4B91-AB6E-605C1EC526D7  88C833F0-D557-4279-8E15-38E68FF40D1C   \n",
       "4  000E7F89-5642-4B91-AB6E-605C1EC526D7  D723D76E-E48A-426D-898C-EADE79C89C48   \n",
       "\n",
       "  total_time  \n",
       "0   02:58:56  \n",
       "1   02:21:15  \n",
       "2   01:47:36  \n",
       "3   00:12:37  \n",
       "4   02:31:47  "
      ]
     },
     "execution_count": 29,
     "metadata": {},
     "output_type": "execute_result"
    }
   ],
   "source": [
    "sum_time.head()"
   ]
  },
  {
   "cell_type": "markdown",
   "metadata": {},
   "source": [
    "Также выделяем данные по тестированию, удаляем дубликаты строк и вычисляем для каждой уникальной пары \"пользователь-учебный материал\" максимальное значение относительного оценочного балла:"
   ]
  },
  {
   "cell_type": "code",
   "execution_count": 30,
   "metadata": {},
   "outputs": [],
   "source": [
    "df_3 = df_1[['ebs_user_id', 'content_id','quiz_user_id', 'quiz_id', 'score', 'total_score', 'create_at',\n",
    "       'finish_at', 'rel_score']].drop_duplicates()"
   ]
  },
  {
   "cell_type": "code",
   "execution_count": 31,
   "metadata": {},
   "outputs": [],
   "source": [
    "max_score = df_3.groupby(['ebs_user_id', 'content_id'], as_index=False).rel_score.max()"
   ]
  },
  {
   "cell_type": "code",
   "execution_count": 32,
   "metadata": {},
   "outputs": [],
   "source": [
    "max_score.rename(columns={'rel_score': 'max_score'}, inplace=True)"
   ]
  },
  {
   "cell_type": "code",
   "execution_count": 33,
   "metadata": {},
   "outputs": [
    {
     "data": {
      "text/html": [
       "<div>\n",
       "<style scoped>\n",
       "    .dataframe tbody tr th:only-of-type {\n",
       "        vertical-align: middle;\n",
       "    }\n",
       "\n",
       "    .dataframe tbody tr th {\n",
       "        vertical-align: top;\n",
       "    }\n",
       "\n",
       "    .dataframe thead th {\n",
       "        text-align: right;\n",
       "    }\n",
       "</style>\n",
       "<table border=\"1\" class=\"dataframe\">\n",
       "  <thead>\n",
       "    <tr style=\"text-align: right;\">\n",
       "      <th></th>\n",
       "      <th>ebs_user_id</th>\n",
       "      <th>content_id</th>\n",
       "      <th>max_score</th>\n",
       "    </tr>\n",
       "  </thead>\n",
       "  <tbody>\n",
       "    <tr>\n",
       "      <th>0</th>\n",
       "      <td>0004B617-2202-4176-A92C-8419AFD35D8F</td>\n",
       "      <td>3A8F9828-C9C3-4FDF-A5E0-57BC721E3FC2</td>\n",
       "      <td>0.800000</td>\n",
       "    </tr>\n",
       "    <tr>\n",
       "      <th>1</th>\n",
       "      <td>0004B617-2202-4176-A92C-8419AFD35D8F</td>\n",
       "      <td>D4BCB71D-E3A9-47DE-BE5E-5E6DA7C53A1C</td>\n",
       "      <td>0.800000</td>\n",
       "    </tr>\n",
       "    <tr>\n",
       "      <th>2</th>\n",
       "      <td>000C16EC-1F9C-4C99-970A-28866BCBE40C</td>\n",
       "      <td>0E5A6AFC-9616-4454-967D-AF99FB35DA14</td>\n",
       "      <td>0.642857</td>\n",
       "    </tr>\n",
       "    <tr>\n",
       "      <th>3</th>\n",
       "      <td>000E7F89-5642-4B91-AB6E-605C1EC526D7</td>\n",
       "      <td>88C833F0-D557-4279-8E15-38E68FF40D1C</td>\n",
       "      <td>1.000000</td>\n",
       "    </tr>\n",
       "    <tr>\n",
       "      <th>4</th>\n",
       "      <td>000E7F89-5642-4B91-AB6E-605C1EC526D7</td>\n",
       "      <td>D723D76E-E48A-426D-898C-EADE79C89C48</td>\n",
       "      <td>0.916667</td>\n",
       "    </tr>\n",
       "  </tbody>\n",
       "</table>\n",
       "</div>"
      ],
      "text/plain": [
       "                            ebs_user_id                            content_id  \\\n",
       "0  0004B617-2202-4176-A92C-8419AFD35D8F  3A8F9828-C9C3-4FDF-A5E0-57BC721E3FC2   \n",
       "1  0004B617-2202-4176-A92C-8419AFD35D8F  D4BCB71D-E3A9-47DE-BE5E-5E6DA7C53A1C   \n",
       "2  000C16EC-1F9C-4C99-970A-28866BCBE40C  0E5A6AFC-9616-4454-967D-AF99FB35DA14   \n",
       "3  000E7F89-5642-4B91-AB6E-605C1EC526D7  88C833F0-D557-4279-8E15-38E68FF40D1C   \n",
       "4  000E7F89-5642-4B91-AB6E-605C1EC526D7  D723D76E-E48A-426D-898C-EADE79C89C48   \n",
       "\n",
       "   max_score  \n",
       "0   0.800000  \n",
       "1   0.800000  \n",
       "2   0.642857  \n",
       "3   1.000000  \n",
       "4   0.916667  "
      ]
     },
     "execution_count": 33,
     "metadata": {},
     "output_type": "execute_result"
    }
   ],
   "source": [
    "max_score.head()"
   ]
  },
  {
   "cell_type": "markdown",
   "metadata": {},
   "source": [
    "Соединяем таблицу, отражающую суммарную продолжительность изучения материала, с таблицей, в которой представлен максимальный относительный балл в результате тестирования. Соединение производим по принципу равенства идентификторов пользователя и учебного материала в двух таблицах:"
   ]
  },
  {
   "cell_type": "code",
   "execution_count": 34,
   "metadata": {},
   "outputs": [],
   "source": [
    "df_total = sum_time.merge(max_score, on = ['ebs_user_id', 'content_id'], how = 'inner')"
   ]
  },
  {
   "cell_type": "markdown",
   "metadata": {},
   "source": [
    "Для удобства переводим общую продолжительность изучения материала в десятичную дробь. При этом продолжительность отображается в часах. "
   ]
  },
  {
   "cell_type": "code",
   "execution_count": 35,
   "metadata": {},
   "outputs": [],
   "source": [
    "df_total.total_time = df_total.total_time.map(lambda x: pd.to_timedelta(x).seconds/3600)"
   ]
  },
  {
   "cell_type": "markdown",
   "metadata": {},
   "source": [
    "В итоге получаем таблицу, в которой для каждой уникальной пары \"пользователь - учебный материал\" представлены данные о суммарной продолжительности изучения материала и максимальном относительном балле при тестировании пользователя по этому учебному материалу:"
   ]
  },
  {
   "cell_type": "code",
   "execution_count": 36,
   "metadata": {},
   "outputs": [
    {
     "data": {
      "text/html": [
       "<div>\n",
       "<style scoped>\n",
       "    .dataframe tbody tr th:only-of-type {\n",
       "        vertical-align: middle;\n",
       "    }\n",
       "\n",
       "    .dataframe tbody tr th {\n",
       "        vertical-align: top;\n",
       "    }\n",
       "\n",
       "    .dataframe thead th {\n",
       "        text-align: right;\n",
       "    }\n",
       "</style>\n",
       "<table border=\"1\" class=\"dataframe\">\n",
       "  <thead>\n",
       "    <tr style=\"text-align: right;\">\n",
       "      <th></th>\n",
       "      <th>ebs_user_id</th>\n",
       "      <th>content_id</th>\n",
       "      <th>total_time</th>\n",
       "      <th>max_score</th>\n",
       "    </tr>\n",
       "  </thead>\n",
       "  <tbody>\n",
       "    <tr>\n",
       "      <th>0</th>\n",
       "      <td>0004B617-2202-4176-A92C-8419AFD35D8F</td>\n",
       "      <td>3A8F9828-C9C3-4FDF-A5E0-57BC721E3FC2</td>\n",
       "      <td>2.982222</td>\n",
       "      <td>0.800000</td>\n",
       "    </tr>\n",
       "    <tr>\n",
       "      <th>1</th>\n",
       "      <td>0004B617-2202-4176-A92C-8419AFD35D8F</td>\n",
       "      <td>D4BCB71D-E3A9-47DE-BE5E-5E6DA7C53A1C</td>\n",
       "      <td>2.354167</td>\n",
       "      <td>0.800000</td>\n",
       "    </tr>\n",
       "    <tr>\n",
       "      <th>2</th>\n",
       "      <td>000C16EC-1F9C-4C99-970A-28866BCBE40C</td>\n",
       "      <td>0E5A6AFC-9616-4454-967D-AF99FB35DA14</td>\n",
       "      <td>1.793333</td>\n",
       "      <td>0.642857</td>\n",
       "    </tr>\n",
       "    <tr>\n",
       "      <th>3</th>\n",
       "      <td>000E7F89-5642-4B91-AB6E-605C1EC526D7</td>\n",
       "      <td>88C833F0-D557-4279-8E15-38E68FF40D1C</td>\n",
       "      <td>0.210278</td>\n",
       "      <td>1.000000</td>\n",
       "    </tr>\n",
       "    <tr>\n",
       "      <th>4</th>\n",
       "      <td>000E7F89-5642-4B91-AB6E-605C1EC526D7</td>\n",
       "      <td>D723D76E-E48A-426D-898C-EADE79C89C48</td>\n",
       "      <td>2.529722</td>\n",
       "      <td>0.916667</td>\n",
       "    </tr>\n",
       "  </tbody>\n",
       "</table>\n",
       "</div>"
      ],
      "text/plain": [
       "                            ebs_user_id                            content_id  \\\n",
       "0  0004B617-2202-4176-A92C-8419AFD35D8F  3A8F9828-C9C3-4FDF-A5E0-57BC721E3FC2   \n",
       "1  0004B617-2202-4176-A92C-8419AFD35D8F  D4BCB71D-E3A9-47DE-BE5E-5E6DA7C53A1C   \n",
       "2  000C16EC-1F9C-4C99-970A-28866BCBE40C  0E5A6AFC-9616-4454-967D-AF99FB35DA14   \n",
       "3  000E7F89-5642-4B91-AB6E-605C1EC526D7  88C833F0-D557-4279-8E15-38E68FF40D1C   \n",
       "4  000E7F89-5642-4B91-AB6E-605C1EC526D7  D723D76E-E48A-426D-898C-EADE79C89C48   \n",
       "\n",
       "   total_time  max_score  \n",
       "0    2.982222   0.800000  \n",
       "1    2.354167   0.800000  \n",
       "2    1.793333   0.642857  \n",
       "3    0.210278   1.000000  \n",
       "4    2.529722   0.916667  "
      ]
     },
     "execution_count": 36,
     "metadata": {},
     "output_type": "execute_result"
    }
   ],
   "source": [
    "df_total.head()"
   ]
  },
  {
   "cell_type": "code",
   "execution_count": 37,
   "metadata": {},
   "outputs": [
    {
     "name": "stdout",
     "output_type": "stream",
     "text": [
      "<class 'pandas.core.frame.DataFrame'>\n",
      "Int64Index: 16062 entries, 0 to 16061\n",
      "Data columns (total 4 columns):\n",
      " #   Column       Non-Null Count  Dtype  \n",
      "---  ------       --------------  -----  \n",
      " 0   ebs_user_id  16062 non-null  object \n",
      " 1   content_id   16062 non-null  object \n",
      " 2   total_time   16062 non-null  float64\n",
      " 3   max_score    16062 non-null  float64\n",
      "dtypes: float64(2), object(2)\n",
      "memory usage: 627.4+ KB\n"
     ]
    }
   ],
   "source": [
    "df_total.info()"
   ]
  },
  {
   "cell_type": "markdown",
   "metadata": {},
   "source": [
    "При этом наблюдается проблема, состоящая в отсутствии данных о рекомендованной продолжительности изучения каждого учебного материала в соответствии с образовательными стандартами. Идеальной ситуация считалась бы та, при которой наряду с данными об ОТНОСИТЕЛЬНЫХ баллах при тестировании мы располагалии бы данными об ОТНОСИТЕЛЬНОЙ продолжительности изучения каждым пользователем каждого учебного материала. Ввиду отсутствия этих данных представляется целесообразным оценивать влияние продолжительности изучения материала на результаты тестирования по нему для КАЖДОГО УЧЕБНОГО МАТЕРИАЛА ПО ОТДЕЛЬНОСТИ.  "
   ]
  },
  {
   "cell_type": "markdown",
   "metadata": {},
   "source": [
    "Выведем, к примеру, графики, отображающие зависимость относительного балла от продолжительности изучения материала для первых пяти учебных материалов:"
   ]
  },
  {
   "cell_type": "code",
   "execution_count": 38,
   "metadata": {},
   "outputs": [],
   "source": [
    "def schedule(n1, n2):\n",
    "    concat_list = []\n",
    "    for i in range(n1, n2):\n",
    "        concat_list.append(df_total[df_total.content_id == df_total.iloc[i].content_id])\n",
    "    df_viz = pd.concat(concat_list, ignore_index = True)\n",
    "    return sns.relplot(x = 'total_time', y = 'max_score', hue = 'content_id', height=5, aspect=1.3, data = df_viz)"
   ]
  },
  {
   "cell_type": "code",
   "execution_count": 39,
   "metadata": {},
   "outputs": [
    {
     "data": {
      "text/plain": [
       "<seaborn.axisgrid.FacetGrid at 0x18367eb28d0>"
      ]
     },
     "execution_count": 39,
     "metadata": {},
     "output_type": "execute_result"
    },
    {
     "data": {
      "image/png": "[encoded data removed]",
      "text/plain": [
       "<Figure size 731.25x360 with 1 Axes>"
      ]
     },
     "metadata": {
      "needs_background": "light"
     },
     "output_type": "display_data"
    }
   ],
   "source": [
    "schedule(0, 5)"
   ]
  },
  {
   "cell_type": "markdown",
   "metadata": {},
   "source": [
    "Посмотрим на следующие 5 учебных дисциплин:"
   ]
  },
  {
   "cell_type": "code",
   "execution_count": 40,
   "metadata": {},
   "outputs": [
    {
     "data": {
      "text/plain": [
       "<seaborn.axisgrid.FacetGrid at 0x1837a0806d8>"
      ]
     },
     "execution_count": 40,
     "metadata": {},
     "output_type": "execute_result"
    },
    {
     "data": {
      "image/png": "[encoded data removed]",
      "text/plain": [
       "<Figure size 730.5x360 with 1 Axes>"
      ]
     },
     "metadata": {
      "needs_background": "light"
     },
     "output_type": "display_data"
    }
   ],
   "source": [
    "schedule(5, 10)"
   ]
  },
  {
   "cell_type": "markdown",
   "metadata": {},
   "source": [
    "Картина по следующим пяти учебным материалам:"
   ]
  },
  {
   "cell_type": "code",
   "execution_count": 41,
   "metadata": {},
   "outputs": [
    {
     "data": {
      "text/plain": [
       "<seaborn.axisgrid.FacetGrid at 0x1830650f940>"
      ]
     },
     "execution_count": 41,
     "metadata": {},
     "output_type": "execute_result"
    },
    {
     "data": {
      "image/png": "[encoded data removed]",
      "text/plain": [
       "<Figure size 726x360 with 1 Axes>"
      ]
     },
     "metadata": {
      "needs_background": "light"
     },
     "output_type": "display_data"
    }
   ],
   "source": [
    "schedule(10, 15)"
   ]
  },
  {
   "cell_type": "markdown",
   "metadata": {},
   "source": [
    "\n",
    "Из графиков видно, что по крайней мере в случае представленных учебных материалов корреляции между продолжительностью их изучения и результатами тестирования, не наблюдается. Возможно, студенты используют другие источники для подготовки к тестированию."
   ]
  }
 ],
 "metadata": {
  "kernelspec": {
   "display_name": "Python 3",
   "language": "python",
   "name": "python3"
  },
  "language_info": {
   "codemirror_mode": {
    "name": "ipython",
    "version": 3
   },
   "file_extension": ".py",
   "mimetype": "text/x-python",
   "name": "python",
   "nbconvert_exporter": "python",
   "pygments_lexer": "ipython3",
   "version": "3.7.3"
  }
 },
 "nbformat": 4,
 "nbformat_minor": 4
}
